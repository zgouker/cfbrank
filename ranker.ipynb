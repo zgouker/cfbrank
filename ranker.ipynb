{
 "cells": [
  {
   "cell_type": "code",
   "execution_count": null,
   "metadata": {},
   "outputs": [],
   "source": [
    "import requests, pandas\n",
    "import numpy as np\n",
    "from IPython.display import Image,HTML\n",
    "pandas.set_option('display.max_colwidth', -1)"
   ]
  },
  {
   "cell_type": "code",
   "execution_count": null,
   "metadata": {},
   "outputs": [],
   "source": [
    "\n",
    "def reindex_from_1(df):\n",
    "    df2 = df.reset_index(drop=True)\n",
    "    df2.index = df2.index+1\n",
    "    return df2\n",
    "\n",
    "def path_to_image_html(path):\n",
    "    '''\n",
    "     This function essentially convert the image url to \n",
    "     '<img src=\"'+ path + '\"/>' format. And one can put any\n",
    "     formatting adjustments to control the height, aspect ratio, size etc.\n",
    "     within as in the below example. \n",
    "    '''\n",
    "\n",
    "    return '<img src=\"'+ path + '\" style=max-height:20px;\"/>'\n",
    "\n",
    "def normalize_dict(d):\n",
    "    d_max = max(d.values())\n",
    "    d_min = min(d.values())\n",
    "    d_range = d_max - d_min\n",
    "    d_new = d\n",
    "    for team in d:\n",
    "        d_new[team] -= d_min\n",
    "        d_new[team] /= d_range\n",
    "    return d_new\n",
    "\n",
    "def get_rank(df,team):\n",
    "    return df.index[df['school'] == team].tolist()[0]"
   ]
  },
  {
   "cell_type": "code",
   "execution_count": null,
   "metadata": {},
   "outputs": [],
   "source": [
    "game_df = pandas.read_csv(\"data/fbs_games_short.csv\")\n",
    "team_df = pandas.read_csv(\"data/fbs_teams_short.csv\")"
   ]
  },
  {
   "cell_type": "code",
   "execution_count": null,
   "metadata": {},
   "outputs": [],
   "source": [
    "HTML(team_df.to_html(escape=False ,formatters=dict(logo=path_to_image_html)))"
   ]
  },
  {
   "cell_type": "code",
   "execution_count": null,
   "metadata": {},
   "outputs": [],
   "source": [
    "wins_dict = {}\n",
    "losses_dict = {}\n",
    "logo_dict = {}\n",
    "score_dict = {}\n",
    "second_order_score_dict = {}\n",
    "for index,team_row in team_df.iterrows():\n",
    "    team = team_row['school']\n",
    "    wins_dict[team]=[]\n",
    "    losses_dict[team]=[]\n",
    "    logo_dict[team]=team_row['logo']\n",
    "    score_dict[team] = 0\n",
    "    second_order_score_dict[team] = 0\n",
    "#num_wins = [len(wins_dict[x]) for x in wins_dict.keys()]"
   ]
  },
  {
   "cell_type": "code",
   "execution_count": null,
   "metadata": {},
   "outputs": [],
   "source": [
    "#build w-l relationships\n",
    "for index,game in game_df.iterrows():\n",
    "    if game['home_points']>game['away_points']:\n",
    "        winning_team = game['home_team']\n",
    "        losing_team = game['away_team']   \n",
    "    else:\n",
    "        winning_team = game['away_team']\n",
    "        losing_team = game['home_team']\n",
    "    wins_dict[winning_team].append(losing_team)\n",
    "    losses_dict[losing_team].append(winning_team)    "
   ]
  },
  {
   "cell_type": "code",
   "execution_count": null,
   "metadata": {},
   "outputs": [],
   "source": [
    "for team in score_dict:\n",
    "    print(team)\n",
    "    for team_defeated in wins_dict[team]:\n",
    "        score_dict[team] += (len(wins_dict[team_defeated])+1)\n",
    "        print(\"+\",team_defeated,(len(wins_dict[team_defeated])+1))\n",
    "    for team_lost_to in losses_dict[team]:\n",
    "        score_dict[team] -= (len(losses_dict[team_lost_to])+1)\n",
    "        print(\"-\",team_lost_to,(len(losses_dict[team_lost_to])+1))\n",
    "    print(\"*\",score_dict[team])"
   ]
  },
  {
   "cell_type": "code",
   "execution_count": null,
   "metadata": {},
   "outputs": [],
   "source": [
    "team_df['score'] = team_df['school'].map(score_dict)\n",
    "team_df = team_df.sort_values(by='score', ascending=False)\n",
    "team_df = reindex_from_1(team_df)"
   ]
  },
  {
   "cell_type": "code",
   "execution_count": null,
   "metadata": {},
   "outputs": [],
   "source": [
    "record_dict = {}\n",
    "for team in wins_dict:\n",
    "    num_wins = len(wins_dict[team])\n",
    "    num_losses = len(losses_dict[team])\n",
    "    record_dict[team] = str(num_wins) + \"-\" +  str(num_losses)\n",
    "#score_dict = normalize_dict(score_dict)"
   ]
  },
  {
   "cell_type": "code",
   "execution_count": null,
   "metadata": {},
   "outputs": [],
   "source": [
    "best_win_dict = {}\n",
    "for team in wins_dict:\n",
    "    if len(wins_dict[team]) == 0:\n",
    "        best_win_dict[team] = \"None\"\n",
    "    else:\n",
    "        best_score = -99999\n",
    "        for team_beat in wins_dict[team]:\n",
    "            if score_dict[team_beat] > best_score:\n",
    "                best_win_dict[team] = \"#\" + str(get_rank(team_df, team_beat)) + \" \" + team_beat + \" (\" + record_dict[team_beat] + \")\"\n",
    "                best_score = score_dict[team_beat]"
   ]
  },
  {
   "cell_type": "code",
   "execution_count": null,
   "metadata": {},
   "outputs": [],
   "source": [
    "worst_loss_dict = {}\n",
    "for team in losses_dict:\n",
    "    if len(losses_dict[team]) == 0:\n",
    "        worst_loss_dict[team] = \"None\"\n",
    "    else:\n",
    "        worst_score = 99999\n",
    "        for team_lost_to in losses_dict[team]:\n",
    "            if score_dict[team_lost_to] < worst_score:\n",
    "                worst_loss_dict[team] = \"#\" + str(get_rank(team_df, team_lost_to)) + \" \" +team_lost_to + \" (\" + record_dict[team_lost_to] + \")\"\n",
    "                worst_score = score_dict[team_lost_to]"
   ]
  },
  {
   "cell_type": "code",
   "execution_count": null,
   "metadata": {
    "scrolled": false
   },
   "outputs": [],
   "source": [
    "team_df['record'] = team_df['school'].map(record_dict)\n",
    "team_df['Best Win'] = team_df['school'].map(best_win_dict)\n",
    "team_df['Worst Loss'] = team_df['school'].map(worst_loss_dict)\n",
    "team_df = team_df[['logo','school','mascot','conference','record','score','Best Win','Worst Loss']]\n",
    "HTML(team_df.to_html(escape=False ,formatters=dict(logo=path_to_image_html)))"
   ]
  },
  {
   "cell_type": "code",
   "execution_count": null,
   "metadata": {},
   "outputs": [],
   "source": [
    "#second order calc"
   ]
  },
  {
   "cell_type": "code",
   "execution_count": null,
   "metadata": {},
   "outputs": [],
   "source": [
    "for team in second_order_score_dict:\n",
    "    for team_defeated in wins_dict[team]:\n",
    "        second_order_score_dict[team] += score_dict[team_defeated]\n",
    "    for team_lost_to in losses_dict[team]:\n",
    "        second_order_score_dict[team] -= (1-score_dict[team_lost_to])\n",
    "    print(team,second_order_score_dict[team])\n",
    "second_order_score_dict = normalize_dict(second_order_score_dict)"
   ]
  },
  {
   "cell_type": "code",
   "execution_count": null,
   "metadata": {
    "scrolled": true
   },
   "outputs": [],
   "source": [
    "\n",
    "#team_df['Second Order Score'] = team_df['school'].map(second_order_score_dict)\n",
    "#team_df['record'] = team_df['school'].map(record_dict)\n",
    "#team_df = team_df.sort_values(by='Second Order Score', ascending=False)\n",
    "#team_df = reindex_from_1(team_df)\n",
    "#team_df = team_df[['logo','school','mascot','conference','record','Second Order Score']]\n",
    "#HTML(team_df.to_html(escape=False ,formatters=dict(logo=path_to_image_html)))\n"
   ]
  },
  {
   "cell_type": "code",
   "execution_count": null,
   "metadata": {},
   "outputs": [],
   "source": []
  },
  {
   "cell_type": "code",
   "execution_count": null,
   "metadata": {},
   "outputs": [],
   "source": [
    "team_df.index[team_df['school'] == \"Tulsa\"].tolist()[0]"
   ]
  },
  {
   "cell_type": "code",
   "execution_count": null,
   "metadata": {},
   "outputs": [],
   "source": []
  },
  {
   "cell_type": "code",
   "execution_count": null,
   "metadata": {},
   "outputs": [],
   "source": []
  }
 ],
 "metadata": {
  "kernelspec": {
   "display_name": "Python 3",
   "language": "python",
   "name": "python3"
  },
  "language_info": {
   "codemirror_mode": {
    "name": "ipython",
    "version": 3
   },
   "file_extension": ".py",
   "mimetype": "text/x-python",
   "name": "python",
   "nbconvert_exporter": "python",
   "pygments_lexer": "ipython3",
   "version": "3.6.5"
  }
 },
 "nbformat": 4,
 "nbformat_minor": 2
}
